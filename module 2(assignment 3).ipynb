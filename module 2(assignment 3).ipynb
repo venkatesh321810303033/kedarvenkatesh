{
 "cells": [
  {
   "cell_type": "code",
   "execution_count": 4,
   "metadata": {},
   "outputs": [
    {
     "name": "stdout",
     "output_type": "stream",
     "text": [
      "Enter the radius of circle4\n",
      "50.26548245743669\n"
     ]
    }
   ],
   "source": [
    "#1.area of circle using math function\n",
    "import math\n",
    "r=int(input('Enter the radius of circle:'))\n",
    "print(math.pi*r*r)"
   ]
  },
  {
   "cell_type": "code",
   "execution_count": 7,
   "metadata": {},
   "outputs": [
    {
     "name": "stdout",
     "output_type": "stream",
     "text": [
      "Enter the number of sides4\n",
      "Enter the length of a side20\n",
      "The area of the rectangular polygon 400.00000000000006\n"
     ]
    }
   ],
   "source": [
    "#2.area of rectangular polygon using math function\n",
    "from math import tan,pi\n",
    "sides=int(input('Enter the number of sides'))\n",
    "length=int(input('Enter the length of a side'))\n",
    "area=sides*(length**2)/(4*tan(pi/sides))\n",
    "print('The area of the rectangular polygon',area)"
   ]
  },
  {
   "cell_type": "code",
   "execution_count": 15,
   "metadata": {},
   "outputs": [
    {
     "name": "stdout",
     "output_type": "stream",
     "text": [
      "Radius of a circle4\n",
      "angle meaasure:370\n",
      "Angle is not posiible\n"
     ]
    }
   ],
   "source": [
    "#3.To find area of a segment of a circle using math function\n",
    "import math\n",
    "def sectorarea():\n",
    "    radius=int(input('Radius of a circle'))\n",
    "    angle=int(input('angle meaasure:'))\n",
    "    if angle>=360:\n",
    "        print('Angle is not posiible')\n",
    "        return\n",
    "    area=(math.pi*radius**2)*(angle/360)\n",
    "    print(\"sector area of a circle:\",area)\n",
    "sectorarea()"
   ]
  },
  {
   "cell_type": "code",
   "execution_count": 16,
   "metadata": {},
   "outputs": [
    {
     "name": "stdout",
     "output_type": "stream",
     "text": [
      "The original list is:[100, 1, 2, 3, 30, 40, 'hai', 'hello']\n",
      "The shuffled list is:[40, 'hai', 'hello', 3, 2, 100, 30, 1]\n"
     ]
    }
   ],
   "source": [
    "#4.program to suffle list\n",
    "import random\n",
    "list=[100,1,2,3,30,40,\"hai\",\"hello\"]\n",
    "print(\"The original list is:\"+str(list))\n",
    "random.shuffle(list)\n",
    "print(\"The shuffled list is:\"+str(list))"
   ]
  },
  {
   "cell_type": "code",
   "execution_count": 1,
   "metadata": {},
   "outputs": [
    {
     "data": {
      "text/plain": [
       "[1170,\n",
       " 9097,\n",
       " 2944,\n",
       " 6753,\n",
       " 7240,\n",
       " 3732,\n",
       " 1922,\n",
       " 1822,\n",
       " 1873,\n",
       " 5960,\n",
       " 6548,\n",
       " 4766,\n",
       " 4455,\n",
       " 5532,\n",
       " 5361,\n",
       " 8243,\n",
       " 1409,\n",
       " 147,\n",
       " 929,\n",
       " 41,\n",
       " 1532,\n",
       " 1349,\n",
       " 6673,\n",
       " 5296,\n",
       " 8865,\n",
       " 305,\n",
       " 3612,\n",
       " 2610,\n",
       " 8793,\n",
       " 153,\n",
       " 9771,\n",
       " 7831,\n",
       " 7130,\n",
       " 5760,\n",
       " 3970,\n",
       " 9619,\n",
       " 4032,\n",
       " 8032,\n",
       " 796,\n",
       " 1551,\n",
       " 7018,\n",
       " 6097,\n",
       " 5690,\n",
       " 3517,\n",
       " 5781,\n",
       " 286,\n",
       " 1157,\n",
       " 1865,\n",
       " 2347,\n",
       " 7153]"
      ]
     },
     "execution_count": 1,
     "metadata": {},
     "output_type": "execute_result"
    }
   ],
   "source": [
    "#5.write a python program to generate random numbers between 1,10000 and difference between each random number is 50\n",
    "import random\n",
    "random.sample(range(1,10000),50)\n"
   ]
  },
  {
   "cell_type": "code",
   "execution_count": null,
   "metadata": {},
   "outputs": [],
   "source": []
  },
  {
   "cell_type": "code",
   "execution_count": 21,
   "metadata": {},
   "outputs": [
    {
     "name": "stdout",
     "output_type": "stream",
     "text": [
      "sin60: 0.8660254037844386\n",
      "cos(pi): -1.0\n",
      "tan90: 1.633123935319537e+16\n",
      "The angle of sin(0.8660254037844386): 59.99999999999999\n",
      "The value of 5^8: 390625.0\n",
      "Square root of 400: 20.0\n",
      "The value of 5^e: 148.4131591025766\n",
      "The value of Log(1024),base 2: 10.0\n",
      "The value of Log(1024),base 10: 3.010299956639812\n",
      "The floor and ceiling value of 23.56: 23 24\n"
     ]
    }
   ],
   "source": [
    "#6.python program by using math module to find\n",
    "import math\n",
    "print('sin60:',math.sin(math.radians(60)))\n",
    "print('cos(pi):',math.cos(math.pi))\n",
    "print('tan90:',math.tan(math.radians(90)))\n",
    "print('The angle of sin(0.8660254037844386):',math.degrees(math.asin(0.8660254037844386)))\n",
    "print('The value of 5^8:',math.pow(5,8))\n",
    "print('Square root of 400:',math.sqrt(400))\n",
    "print('The value of 5^e:',math.exp(5))\n",
    "print('The value of Log(1024),base 2:',math.log2(1024))\n",
    "print('The value of Log(1024),base 10:',math.log10(1024))\n",
    "print('The floor and ceiling value of 23.56:',math.floor(23.56),math.ceil(23.56))"
   ]
  }
 ],
 "metadata": {
  "kernelspec": {
   "display_name": "Python 3",
   "language": "python",
   "name": "python3"
  },
  "language_info": {
   "codemirror_mode": {
    "name": "ipython",
    "version": 3
   },
   "file_extension": ".py",
   "mimetype": "text/x-python",
   "name": "python",
   "nbconvert_exporter": "python",
   "pygments_lexer": "ipython3",
   "version": "3.7.6"
  }
 },
 "nbformat": 4,
 "nbformat_minor": 4
}
