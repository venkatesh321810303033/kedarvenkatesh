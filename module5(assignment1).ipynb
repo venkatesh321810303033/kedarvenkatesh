{
 "cells": [
  {
   "cell_type": "code",
   "execution_count": 3,
   "metadata": {},
   "outputs": [
    {
     "name": "stdout",
     "output_type": "stream",
     "text": [
      "sum of elements in the list is: 100\n"
     ]
    }
   ],
   "source": [
    "#3.python program to sum all items in a list.\n",
    "sum=0\n",
    "list=[12,3,5,67,3,10]\n",
    "for i in  range(0,len(list)):\n",
    "    sum=sum+list[i]\n",
    "print(\"sum of elements in the list is:\",sum)"
   ]
  },
  {
   "cell_type": "code",
   "execution_count": 4,
   "metadata": {},
   "outputs": [
    {
     "name": "stdout",
     "output_type": "stream",
     "text": [
      "[{}, {}, {}]\n"
     ]
    }
   ],
   "source": [
    "#4.python program to create a list of empty dictionaries.\n",
    "n=3\n",
    "l=[{} for _ in range(n)]\n",
    "print(l)"
   ]
  },
  {
   "cell_type": "code",
   "execution_count": 6,
   "metadata": {},
   "outputs": [
    {
     "name": "stdout",
     "output_type": "stream",
     "text": [
      "original dictionary is:{'venky': 32, 'leon': 12, 'uday': 21, 'harsha': 36, 'vasu': 5}\n",
      "key values are:\n",
      "venky\n",
      "leon\n",
      "uday\n",
      "harsha\n",
      "vasu\n"
     ]
    }
   ],
   "source": [
    "#5.python program to access dictionary keys element by index.\n",
    "d1={\"venky\":32,\"leon\":12,\"uday\":21,\"harsha\":36,\"vasu\":5}\n",
    "print(\"original dictionary is:\"+str(d1))\n",
    "print(\"key values are:\")\n",
    "for i in d1:\n",
    "    print(i)"
   ]
  },
  {
   "cell_type": "code",
   "execution_count": 7,
   "metadata": {},
   "outputs": [
    {
     "name": "stdout",
     "output_type": "stream",
     "text": [
      "venky 32\n",
      "leon 12\n",
      "uday 21\n",
      "harsha 36\n",
      "vasu 5\n"
     ]
    }
   ],
   "source": [
    "#6.program to iterate over dictionaries using for loop.\n",
    "d1={\"venky\":32,\"leon\":12,\"uday\":21,\"harsha\":36,\"vasu\":5}\n",
    "for k,v in d1.items():\n",
    "    print(k,v)\n"
   ]
  },
  {
   "cell_type": "code",
   "execution_count": 8,
   "metadata": {},
   "outputs": [
    {
     "name": "stdout",
     "output_type": "stream",
     "text": [
      "sum of items in the dictionary: 35\n"
     ]
    }
   ],
   "source": [
    "#7.program to sum all items in the dictionary.\n",
    "def sum(d2):\n",
    "    sum=0\n",
    "    for i in d2:\n",
    "        sum=sum+d2[i]\n",
    "    return sum\n",
    "d2={\"a\":12,\"b\":8,\"c\":15}\n",
    "print(\"sum of items in the dictionary:\",sum(d2))"
   ]
  },
  {
   "cell_type": "code",
   "execution_count": 9,
   "metadata": {},
   "outputs": [
    {
     "name": "stdout",
     "output_type": "stream",
     "text": [
      "{1: 10, 2: 20, 3: 30, 4: 40, 5: 50, 6: 60}\n"
     ]
    }
   ],
   "source": [
    "#8.python script to concatenate the following dictionaries to create a new one.\n",
    "#sample dictionary\n",
    "#dic1={1:10,2:20}\n",
    "#dic2={3:30,4:40}\n",
    "#dic3={5:50,6:60}\n",
    "\n",
    "dic1={1:10,2:20}\n",
    "dic2={3:30,4:40}\n",
    "dic3={5:50,6:60}\n",
    "dic4={}\n",
    "for d in (dic1,dic2,dic3):\n",
    "    dic4.update(d)\n",
    "print(dic4)\n"
   ]
  },
  {
   "cell_type": "code",
   "execution_count": 10,
   "metadata": {},
   "outputs": [
    {
     "name": "stdout",
     "output_type": "stream",
     "text": [
      "(5, 10, 15, 20, 25)\n"
     ]
    }
   ],
   "source": [
    "#10.python program to create a tuple.\n",
    "t=5,10,15,20,25\n",
    "print(t)"
   ]
  },
  {
   "cell_type": "code",
   "execution_count": 11,
   "metadata": {},
   "outputs": [
    {
     "name": "stdout",
     "output_type": "stream",
     "text": [
      "(1, 6.9, 'hi', False)\n"
     ]
    }
   ],
   "source": [
    "#11.python program to create a tuple with different data types.\n",
    "t1=(1,6.9,\"hi\",False)\n",
    "print(t1)"
   ]
  },
  {
   "cell_type": "code",
   "execution_count": 12,
   "metadata": {},
   "outputs": [
    {
     "name": "stdout",
     "output_type": "stream",
     "text": [
      "hello\n"
     ]
    }
   ],
   "source": [
    "#12.python program to convert a tuple in to a string.\n",
    "\n",
    "tuple=('h','e','l','l','o')\n",
    "str=''.join(tuple)\n",
    "print(str)"
   ]
  },
  {
   "cell_type": "code",
   "execution_count": 13,
   "metadata": {},
   "outputs": [
    {
     "name": "stdout",
     "output_type": "stream",
     "text": [
      "(5, 4)\n"
     ]
    }
   ],
   "source": [
    "#13.python program to slice a tuple.\n",
    "t=(2,4,3,5,4,6,7,8,6,1)\n",
    "slice=t[3:5]\n",
    "print(slice)"
   ]
  },
  {
   "cell_type": "code",
   "execution_count": 14,
   "metadata": {},
   "outputs": [
    {
     "name": "stdout",
     "output_type": "stream",
     "text": [
      "8\n"
     ]
    }
   ],
   "source": [
    "#14.python program to find the length of a tuple.\n",
    "t3=(10,6,8,7,9,0,6,5)\n",
    "print(len(t3))"
   ]
  },
  {
   "cell_type": "code",
   "execution_count": 15,
   "metadata": {},
   "outputs": [
    {
     "name": "stdout",
     "output_type": "stream",
     "text": [
      "{'akash': [10], 'gowtham': [12], 'ajay': [25]}\n"
     ]
    }
   ],
   "source": [
    "#15.python program to convert a tuple into a dictionary.\n",
    "def convert(tup,di):\n",
    "    for a,b in tup:\n",
    "        di.setdefault(a,[]).append(b)\n",
    "    return di\n",
    "tups=[(\"akash\",10),(\"gowtham\",12),(\"ajay\",25)]\n",
    "dictionary={}\n",
    "print(convert(tups,dictionary))"
   ]
  },
  {
   "cell_type": "code",
   "execution_count": 16,
   "metadata": {},
   "outputs": [
    {
     "name": "stdout",
     "output_type": "stream",
     "text": [
      "(9, 8, 7, 6, 5, 4, 3, 2, 1)\n"
     ]
    }
   ],
   "source": [
    "#16.python program to reverse a tuple.\n",
    "def reverse(tuple):\n",
    "    new_tuple=tuple[::-1]\n",
    "    return new_tuple\n",
    "tuple=(1,2,3,4,5,6,7,8,9)\n",
    "print(reverse(tuple))"
   ]
  },
  {
   "cell_type": "code",
   "execution_count": 17,
   "metadata": {},
   "outputs": [
    {
     "name": "stdout",
     "output_type": "stream",
     "text": [
      "{'x': [1], 'y': [2], 'z': [3]}\n"
     ]
    }
   ],
   "source": [
    "#17.python program to convert a list of tuples into a dictionary.\n",
    "l=[(\"x\",1),(\"y\",2),(\"z\",3)]\n",
    "d={}\n",
    "for a,b in l:\n",
    "    d.setdefault(a, []).append(b)\n",
    "print(d)"
   ]
  },
  {
   "cell_type": "code",
   "execution_count": 21,
   "metadata": {},
   "outputs": [
    {
     "name": "stdout",
     "output_type": "stream",
     "text": [
      "[1, 3, 4, 6, 7, 8]\n",
      "(1, 3, 4, 6, 7, 8)\n"
     ]
    }
   ],
   "source": [
    "#18.python program to convert a list in to a tuple.\n",
    "list1=[1,3,4,6,7,8]\n",
    "print(list1)\n",
    "del tuple\n",
    "print(tuple(list1))"
   ]
  }
 ],
 "metadata": {
  "kernelspec": {
   "display_name": "Python 3",
   "language": "python",
   "name": "python3"
  },
  "language_info": {
   "codemirror_mode": {
    "name": "ipython",
    "version": 3
   },
   "file_extension": ".py",
   "mimetype": "text/x-python",
   "name": "python",
   "nbconvert_exporter": "python",
   "pygments_lexer": "ipython3",
   "version": "3.7.6"
  }
 },
 "nbformat": 4,
 "nbformat_minor": 4
}
