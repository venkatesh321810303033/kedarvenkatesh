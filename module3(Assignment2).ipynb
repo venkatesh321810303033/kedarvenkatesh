{
 "cells": [
  {
   "cell_type": "code",
   "execution_count": 1,
   "metadata": {},
   "outputs": [
    {
     "name": "stdout",
     "output_type": "stream",
     "text": [
      "Enter a string: venkatesh\n",
      "Length of a string is 9\n"
     ]
    }
   ],
   "source": [
    "#1. program to calculate the length of a string\n",
    "def strlen(string):\n",
    "    ct=0\n",
    "    for char in string:\n",
    "        ct+=1\n",
    "    return ct\n",
    "string = str(input('Enter a string: '))\n",
    "print(\"Length of a string is\",strlen(string))"
   ]
  },
  {
   "cell_type": "code",
   "execution_count": 2,
   "metadata": {},
   "outputs": [
    {
     "name": "stdout",
     "output_type": "stream",
     "text": [
      "Enter a string: venkatesh\n",
      "No.of characters in the string is {'v': 1, 'e': 2, 'n': 1, 'k': 1, 'a': 1, 't': 1, 's': 1, 'h': 1}\n"
     ]
    }
   ],
   "source": [
    "#2. program to count no.of characters in a string(character frequency)\n",
    "def charfre(string):\n",
    "    dict={}\n",
    "    for n in string:\n",
    "        keys=dict.keys()\n",
    "        if n in keys:\n",
    "            dict[n]+=1\n",
    "        else:\n",
    "            dict[n]=1\n",
    "    return dict\n",
    "string = str(input('Enter a string: '))\n",
    "print(\"No.of characters in the string is\",charfre(string))"
   ]
  },
  {
   "cell_type": "code",
   "execution_count": 3,
   "metadata": {},
   "outputs": [
    {
     "name": "stdout",
     "output_type": "stream",
     "text": [
      "Enter string1:java\n",
      "Enter string2:programming\n",
      "The resulting string: prva jaogramming\n"
     ]
    }
   ],
   "source": [
    "#3.Python program to get a single string from two given strings, separated by a space and swap the first two characters of each string.\n",
    "def charmix(a, b):\n",
    "    new_a = b[:2] + a[2:]\n",
    "    new_b = a[:2] + b[2:]\n",
    "    return new_a + ' ' + new_b\n",
    "a=str(input('Enter string1:'))\n",
    "b=str(input('Enter string2:'))\n",
    "print('The resulting string:',charmix(a,b))\n"
   ]
  },
  {
   "cell_type": "code",
   "execution_count": 4,
   "metadata": {},
   "outputs": [
    {
     "name": "stdout",
     "output_type": "stream",
     "text": [
      "Enter a string: VenKY\n",
      "VENKY\n",
      "venky\n"
     ]
    }
   ],
   "source": [
    "#4 program to display the given input in lower and upper case\n",
    "string=str(input(\"Enter a string: \"))\n",
    "print(string.upper())\n",
    "print(string.lower())"
   ]
  },
  {
   "cell_type": "code",
   "execution_count": 6,
   "metadata": {},
   "outputs": [
    {
     "name": "stdout",
     "output_type": "stream",
     "text": [
      "venkatesh\n",
      "\n",
      "venkatesh\n"
     ]
    }
   ],
   "source": [
    "#5.Python program to remove a newline in Python.\n",
    "str1='venkatesh\\n'\n",
    "print(str1)\n",
    "print(str1.rstrip())"
   ]
  },
  {
   "cell_type": "code",
   "execution_count": 7,
   "metadata": {},
   "outputs": [
    {
     "name": "stdout",
     "output_type": "stream",
     "text": [
      "Enter a string: venkatesh\n",
      "Enter a sub string: at\n",
      "The count is: 1\n"
     ]
    }
   ],
   "source": [
    "#6. program to count occurances of substring in a string\n",
    "string=str(input('Enter a string: '))\n",
    "substr=str(input('Enter a sub string: '))\n",
    "count=string.count(substr)\n",
    "print(\"The count is:\",count)"
   ]
  },
  {
   "cell_type": "code",
   "execution_count": 8,
   "metadata": {},
   "outputs": [
    {
     "name": "stdout",
     "output_type": "stream",
     "text": [
      "Enter a string: this is venkatesh\n",
      "['this', 'is', 'venkatesh']\n"
     ]
    }
   ],
   "source": [
    "#7.program to convert a string in a list.\n",
    "def Convert(string): \n",
    "    a=list(string.split(\" \"))\n",
    "    return a\n",
    "string = str(input('Enter a string: '))\n",
    "print(Convert(string))"
   ]
  },
  {
   "cell_type": "code",
   "execution_count": 9,
   "metadata": {},
   "outputs": [
    {
     "name": "stdout",
     "output_type": "stream",
     "text": [
      "Enter the string:venky\n",
      "Enter which character you want to delete:k\n",
      "The resulted string: veny\n"
     ]
    }
   ],
   "source": [
    "#8.Python program to perform Deletion of a character \n",
    "string=str(input('Enter the string:'))\n",
    "char=str(input('Enter which character you want to delete:'))\n",
    "new_string=string.replace(char,\"\")\n",
    "print(\"The resulted string:\",new_string)"
   ]
  },
  {
   "cell_type": "code",
   "execution_count": 11,
   "metadata": {},
   "outputs": [
    {
     "name": "stdout",
     "output_type": "stream",
     "text": [
      "Enter the string:venky\n",
      "v \n",
      "\n",
      "e \n",
      "\n",
      "n \n",
      "\n",
      "k \n",
      "\n",
      "y \n",
      "\n"
     ]
    }
   ],
   "source": [
    "#9.program to print every character of a string entered by user in a new line using loop. \n",
    "word=str(input('Enter the string:'))\n",
    "for i in word:\n",
    "    print(i,\"\\n\")"
   ]
  },
  {
   "cell_type": "code",
   "execution_count": 12,
   "metadata": {},
   "outputs": [
    {
     "name": "stdout",
     "output_type": "stream",
     "text": [
      "12\n"
     ]
    }
   ],
   "source": [
    "#10.Program to find the length of the string\"Refrigirator\" without using len function\n",
    "word=\"refrigerator\"\n",
    "count=0\n",
    "for i in word:\n",
    "    count=count+1\n",
    "print(count)"
   ]
  }
 ],
 "metadata": {
  "kernelspec": {
   "display_name": "Python 3",
   "language": "python",
   "name": "python3"
  },
  "language_info": {
   "codemirror_mode": {
    "name": "ipython",
    "version": 3
   },
   "file_extension": ".py",
   "mimetype": "text/x-python",
   "name": "python",
   "nbconvert_exporter": "python",
   "pygments_lexer": "ipython3",
   "version": "3.7.6"
  }
 },
 "nbformat": 4,
 "nbformat_minor": 4
}
