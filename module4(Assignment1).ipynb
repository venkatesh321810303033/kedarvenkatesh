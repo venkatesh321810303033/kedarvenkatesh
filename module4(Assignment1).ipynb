{
 "cells": [
  {
   "cell_type": "code",
   "execution_count": 23,
   "metadata": {},
   "outputs": [
    {
     "name": "stdout",
     "output_type": "stream",
     "text": [
      "name:venkatesh\n",
      "sec:c\n",
      "year:2nd\n",
      "roll no:321810303033\n",
      "gender:male\n"
     ]
    }
   ],
   "source": [
    "#1.program to read entire file system.\n",
    "def file_read(fname):\n",
    "    txt=open(fname)\n",
    "    print(txt.read())\n",
    "file_read('p1.txt')"
   ]
  },
  {
   "cell_type": "code",
   "execution_count": 24,
   "metadata": {},
   "outputs": [
    {
     "name": "stdout",
     "output_type": "stream",
     "text": [
      "name:venkatesh\n",
      "\n",
      "sec:c\n",
      "\n"
     ]
    }
   ],
   "source": [
    "#2.program to read first n lines of a file\n",
    "def file_read_from_top(fname,n):\n",
    "    txt=open(fname)\n",
    "    for i in range(n):\n",
    "        print(txt.readline())\n",
    "file_read_from_top('p1.txt',2)"
   ]
  },
  {
   "cell_type": "code",
   "execution_count": 25,
   "metadata": {
    "scrolled": true
   },
   "outputs": [
    {
     "name": "stdout",
     "output_type": "stream",
     "text": [
      "python\n",
      "programming language\n"
     ]
    }
   ],
   "source": [
    "#3.program to append txt to file and display the txt\n",
    "def file_append_read(fname):\n",
    "    from itertools import islice\n",
    "    with open(fname, \"w\") as myfile:\n",
    "        myfile.write(\"python\\n\")\n",
    "        myfile.write(\"programming language\")\n",
    "    txt = open(fname)\n",
    "    print(txt.read())\n",
    "file_read('gitam.txt')"
   ]
  },
  {
   "cell_type": "code",
   "execution_count": 26,
   "metadata": {},
   "outputs": [
    {
     "name": "stdout",
     "output_type": "stream",
     "text": [
      "enter the file name:p1.txt\n",
      "no of last lines to read:2\n",
      "Last 2 lines from file: p1.txt\n",
      "roll no:321810303033\n",
      "gender:male"
     ]
    }
   ],
   "source": [
    "#4.Python program to read last n lines of a file.\n",
    "def LastNLines(f,n):\n",
    "    with open(f) as file:\n",
    "        print('Last',n,\"lines from file:\" ,f)\n",
    "        for line in (file.readlines() [-n:]):\n",
    "            print(line, end='')\n",
    "name=input(\"enter the file name:\" )\n",
    "n= int(input(\"no of last lines to read:\"))\n",
    "try:\n",
    "    LastNLines(name,n)\n",
    "except:\n",
    "    print(\"file error....\")\n"
   ]
  },
  {
   "cell_type": "code",
   "execution_count": 27,
   "metadata": {},
   "outputs": [
    {
     "name": "stdout",
     "output_type": "stream",
     "text": [
      "enter the file name:p1.txt\n",
      "['name:venkatesh\\n', 'sec:c\\n', 'year:2nd\\n', 'roll no:321810303033\\n', 'gender:male']\n"
     ]
    }
   ],
   "source": [
    "#5.Python program to read a file line by line store it into a variable. \n",
    "def read(a):\n",
    "        with open (a) as file:\n",
    "                cse=file.readlines()\n",
    "                print(cse)\n",
    "a=input(\"enter the file name:\")\n",
    "read(a)\n"
   ]
  },
  {
   "cell_type": "code",
   "execution_count": 28,
   "metadata": {},
   "outputs": [
    {
     "name": "stdout",
     "output_type": "stream",
     "text": [
      "enter the file name:p1.txt\n",
      "['name:venkatesh\\n', 'sec:c\\n', 'year:2nd\\n', 'roll no:321810303033\\n', 'gender:male']\n"
     ]
    }
   ],
   "source": [
    "#6.Python program to read a file line by line and store it into a list.\n",
    "def read(a):\n",
    "        with open(a) as file:     \n",
    "                list = file.readlines()\n",
    "                print(list)\n",
    "a=input(\"enter the file name:\")\n",
    "read(a)\n"
   ]
  },
  {
   "cell_type": "code",
   "execution_count": 30,
   "metadata": {},
   "outputs": [
    {
     "name": "stdout",
     "output_type": "stream",
     "text": [
      "['name:venkatesh\\n', 'sec:c\\n', 'year:2nd\\n', 'roll no:321810303033\\n', 'gender:male']\n"
     ]
    }
   ],
   "source": [
    "#7.python program to read a file line by line and store it into array.\n",
    "def file_read_array(fname):\n",
    "    content_array=[]\n",
    "    with open(fname) as f:\n",
    "        for line in f:\n",
    "            content_array.append(line)\n",
    "        print(content_array)\n",
    "file_read_array(\"p1.txt\")"
   ]
  },
  {
   "cell_type": "code",
   "execution_count": 31,
   "metadata": {},
   "outputs": [
    {
     "name": "stdout",
     "output_type": "stream",
     "text": [
      "Enter file name: p1.txt\n",
      "Number of lines:\n",
      "5\n"
     ]
    }
   ],
   "source": [
    "#8.python program to count the number of lines in a text file.\n",
    "fname = input(\"Enter file name: \")\n",
    "num_lines = 0\n",
    "with open(fname, 'r') as f:\n",
    "    for line in f:\n",
    "        num_lines += 1\n",
    "print(\"Number of lines:\")\n",
    "print(num_lines)"
   ]
  },
  {
   "cell_type": "code",
   "execution_count": 32,
   "metadata": {},
   "outputs": [
    {
     "name": "stdout",
     "output_type": "stream",
     "text": [
      "file size in bytes of a plain file: 62\n"
     ]
    }
   ],
   "source": [
    "#9.python program to get the file size of a plain file.\n",
    "def file_size(fname):\n",
    "    import os\n",
    "    statinfo =os.stat(fname)\n",
    "    return statinfo.st_size\n",
    "print(\"file size in bytes of a plain file:\" ,file_size(\"p1.txt\"))"
   ]
  },
  {
   "cell_type": "code",
   "execution_count": 33,
   "metadata": {
    "scrolled": false
   },
   "outputs": [
    {
     "name": "stdout",
     "output_type": "stream",
     "text": [
      "name:venkatesh\n",
      "sec:c\n",
      "year:2nd\n",
      "roll no:321810303033\n",
      "gender:male\n"
     ]
    }
   ],
   "source": [
    "#10.python program to copy the contents of a file to another file.\n",
    "with open(\"p1.txt\")as f:\n",
    "    with open(\"out.txt\",\"w\")as f1:\n",
    "        for line in f:\n",
    "            f1.write(line)\n",
    "file_read(\"out.txt\")"
   ]
  },
  {
   "cell_type": "code",
   "execution_count": 34,
   "metadata": {},
   "outputs": [
    {
     "name": "stdout",
     "output_type": "stream",
     "text": [
      "sum of all elements in the list: 50\n"
     ]
    }
   ],
   "source": [
    "#11.python program to sum all the items in the list.\n",
    "total=0\n",
    "list=[1,5,7,9,8,20]\n",
    "for i in range(0,len(list)):\n",
    "    total=total+list[i]\n",
    "print(\"sum of all elements in the list:\",total)"
   ]
  },
  {
   "cell_type": "code",
   "execution_count": 35,
   "metadata": {},
   "outputs": [
    {
     "name": "stdout",
     "output_type": "stream",
     "text": [
      "24\n"
     ]
    }
   ],
   "source": [
    "#12.Python program to multiply all elements in the list\n",
    "def multiply(mylist):\n",
    "    result=1\n",
    "    for x in mylist:\n",
    "        result=result*x\n",
    "    return result\n",
    "list=[3,2,4]\n",
    "print(multiply(list))"
   ]
  },
  {
   "cell_type": "code",
   "execution_count": 36,
   "metadata": {},
   "outputs": [
    {
     "name": "stdout",
     "output_type": "stream",
     "text": [
      "the smallest number in the list is: 1\n",
      "the largest number in the list is: 100\n"
     ]
    }
   ],
   "source": [
    "#13.Python program to find largest and smallest number in the list.\n",
    "\n",
    "list=[1,78,90,12,100]\n",
    "print(\"the smallest number in the list is:\",min(list))\n",
    "print(\"the largest number in the list is:\",max(list))"
   ]
  },
  {
   "cell_type": "code",
   "execution_count": 37,
   "metadata": {},
   "outputs": [
    {
     "name": "stdout",
     "output_type": "stream",
     "text": [
      "Enter the number of elements in list:6\n",
      "Enter element1:2\n",
      "Enter element2:3\n",
      "Enter element3:5\n",
      "Enter element4:1\n",
      "Enter element5:5\n",
      "Enter element6:7\n",
      "Non-duplicate items:\n",
      "[2, 3, 5, 1, 7]\n"
     ]
    }
   ],
   "source": [
    "#14.python program to remove duplicates from a list.\n",
    "a=[]\n",
    "n= int(input(\"Enter the number of elements in list:\"))\n",
    "for x in range(0,n):\n",
    "    element=int(input(\"Enter element\" + str(x+1) + \":\"))\n",
    "    a.append(element)\n",
    "b = set()\n",
    "unique = []\n",
    "for x in a:\n",
    "    if x not in b:\n",
    "        unique.append(x)\n",
    "        b.add(x)\n",
    "print(\"Non-duplicate items:\")\n",
    "print(unique)"
   ]
  },
  {
   "cell_type": "code",
   "execution_count": 38,
   "metadata": {},
   "outputs": [
    {
     "name": "stdout",
     "output_type": "stream",
     "text": [
      "empty list\n"
     ]
    }
   ],
   "source": [
    "#15.python program to check a list is empty or not.\n",
    "\n",
    "def check(list):\n",
    "    if len(list)== 0:\n",
    "        return 0\n",
    "    else:\n",
    "        return 1\n",
    "list=[]\n",
    "if check(list):\n",
    "    print(\"the list is not empty\")\n",
    "else:\n",
    "    print(\"empty list\")"
   ]
  },
  {
   "cell_type": "code",
   "execution_count": 44,
   "metadata": {},
   "outputs": [
    {
     "name": "stdout",
     "output_type": "stream",
     "text": [
      "[20, 3, 4, 5, 6, 8]\n",
      "[20, 3, 4, 5, 6, 8]\n"
     ]
    }
   ],
   "source": [
    "#16.Python program to clone or copy a list.\n",
    "original_list=[20,3,4,5,6,8]\n",
    "new_list=original_list\n",
    "print(original_list)\n",
    "print(new_list)"
   ]
  },
  {
   "cell_type": "code",
   "execution_count": 45,
   "metadata": {},
   "outputs": [
    {
     "name": "stdout",
     "output_type": "stream",
     "text": [
      "['Green', 'White', 'Black']\n"
     ]
    }
   ],
   "source": [
    "#17Python program to print a specified list after removing the 0th,4th,5th elements.\n",
    "l= ['Red', 'Green', 'White', 'Black', 'Pink', 'Yellow']\n",
    "l= [x for (i,x) in enumerate(l) if i not in (0,4,5)]\n",
    "print(l)"
   ]
  },
  {
   "cell_type": "code",
   "execution_count": 46,
   "metadata": {},
   "outputs": [
    {
     "name": "stdout",
     "output_type": "stream",
     "text": [
      "[1, 3, 5, 7, 9]\n"
     ]
    }
   ],
   "source": [
    "#18.python program to print the numbers of a specified list after removing even number form it.\n",
    "a = [0,1,2,3,4,5,6,7,8,9,10]\n",
    "a = [x for x in a if x%2!=0]\n",
    "print(a)"
   ]
  },
  {
   "cell_type": "code",
   "execution_count": 47,
   "metadata": {},
   "outputs": [
    {
     "name": "stdout",
     "output_type": "stream",
     "text": [
      "[78, 99, 45, 1, 56, 3]\n"
     ]
    }
   ],
   "source": [
    "#19.Python program to shuffle and print a specified list.\n",
    "from random import shuffle\n",
    "a = [1,3,45,56,78,99]\n",
    "shuffle(a)\n",
    "print(a)\n"
   ]
  },
  {
   "cell_type": "code",
   "execution_count": null,
   "metadata": {},
   "outputs": [],
   "source": [
    "#20.Python program to get the difference between the two lists.\n",
    "def Diff(A, B):\n",
    "   print(\"Difference of two lists ::>\")\n",
    "   return (list(set(A)-set(B))\n",
    "A=[1,2,3,4,6]\n",
    "B=[5,3,7,1,4]\n",
    "print(Diff(A, B))"
   ]
  }
 ],
 "metadata": {
  "kernelspec": {
   "display_name": "Python 3",
   "language": "python",
   "name": "python3"
  },
  "language_info": {
   "codemirror_mode": {
    "name": "ipython",
    "version": 3
   },
   "file_extension": ".py",
   "mimetype": "text/x-python",
   "name": "python",
   "nbconvert_exporter": "python",
   "pygments_lexer": "ipython3",
   "version": "3.7.6"
  }
 },
 "nbformat": 4,
 "nbformat_minor": 4
}
