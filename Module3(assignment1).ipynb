{
 "cells": [
  {
   "cell_type": "code",
   "execution_count": 2,
   "metadata": {},
   "outputs": [
    {
     "name": "stdout",
     "output_type": "stream",
     "text": [
      "Enter binary number:1001\n",
      "The decimal value of the number: 9\n"
     ]
    }
   ],
   "source": [
    "#1.convert binary to decimal\n",
    "b_num=list(input('Enter binary number:'))\n",
    "value=0\n",
    "for i in range(len(b_num)):\n",
    "    digit=b_num.pop()\n",
    "    if digit=='1':\n",
    "        value=value+pow(2,i)\n",
    "print('The decimal value of the number:',value)"
   ]
  },
  {
   "cell_type": "code",
   "execution_count": 1,
   "metadata": {},
   "outputs": [
    {
     "name": "stdout",
     "output_type": "stream",
     "text": [
      "Enter the n value:5\n",
      "1 1 2 3 5 "
     ]
    }
   ],
   "source": [
    "#2.Generate N number of fibonacci numbers.\n",
    "def Fibonacci(n):\n",
    "    f1=0\n",
    "    f2=1\n",
    "    if(n<1):\n",
    "        return\n",
    "    for x in range(0,n):\n",
    "        print(f2,end=' ')\n",
    "        next=f1+f2\n",
    "        f1=f2\n",
    "        f2=next\n",
    "n=int(input('Enter the n value:'))\n",
    "Fibonacci(n)"
   ]
  },
  {
   "cell_type": "code",
   "execution_count": 5,
   "metadata": {},
   "outputs": [
    {
     "name": "stdout",
     "output_type": "stream",
     "text": [
      "Enter the k value:12\n",
      "12  *  1 = 12\n",
      "12  *  2 = 24\n",
      "12  *  3 = 36\n",
      "12  *  4 = 48\n",
      "12  *  5 = 60\n",
      "12  *  6 = 72\n",
      "12  *  7 = 84\n",
      "12  *  8 = 96\n",
      "12  *  9 = 108\n",
      "12  *  10 = 120\n"
     ]
    }
   ],
   "source": [
    "#3.display multiplication table of k.\n",
    "k=int(input('Enter the k value:'))\n",
    "for i in range(1,11):\n",
    "    print(k,' * ',i,'=',k*i)"
   ]
  },
  {
   "cell_type": "code",
   "execution_count": 4,
   "metadata": {},
   "outputs": [
    {
     "name": "stdout",
     "output_type": "stream",
     "text": [
      "Enter 10 values:6 3 2 9 6  4 2 1 8 3\n",
      "The average is: 4.4\n"
     ]
    }
   ],
   "source": [
    "#4.Take 10 integers from keyword using loop and print their average on the screen print the following pattern using loop\n",
    "i=0\n",
    "numbers=input('Enter 10 values:')\n",
    "numberlist=numbers.split()\n",
    "sum=0\n",
    "for num in numberlist:\n",
    "    sum=sum+int(num)\n",
    "print('The average is:',sum/len(numberlist))"
   ]
  },
  {
   "cell_type": "code",
   "execution_count": 6,
   "metadata": {},
   "outputs": [
    {
     "name": "stdout",
     "output_type": "stream",
     "text": [
      "Enter first number:4\n",
      "Enter second number:8\n",
      "GCD is:  4\n",
      "HCF is:  4\n"
     ]
    }
   ],
   "source": [
    "#5.to find greatest common divisor or highest common factor of given two numbers\n",
    "def gcd(a,b):\n",
    "    if(b==0):\n",
    "        return a\n",
    "    else:\n",
    "        return gcd(b,a%b)\n",
    "def hcf(x, y):\n",
    "    if x > y:\n",
    "        smaller = y\n",
    "    else:\n",
    "        smaller = x\n",
    "    for i in range(1, smaller+1):\n",
    "        if((x % i == 0) and (y % i == 0)):\n",
    "            hcf = i \n",
    "    return hcf\n",
    "a=int(input(\"Enter first number:\"))\n",
    "b=int(input(\"Enter second number:\"))\n",
    "GCD=gcd(a,b)\n",
    "HCF=hcf(a,b)\n",
    "print(\"GCD is: \",GCD)\n",
    "print(\"HCF is: \",HCF)"
   ]
  },
  {
   "cell_type": "code",
   "execution_count": 9,
   "metadata": {},
   "outputs": [
    {
     "name": "stdout",
     "output_type": "stream",
     "text": [
      "Enter the word:venky\n",
      "The reverse of given string is: yknev\n"
     ]
    }
   ],
   "source": [
    "#6.to take string input from user and to reverse it\n",
    "word=str(input('Enter the word:'))\n",
    "word1=word[::-1]\n",
    "print(\"The reverse of given string is:\",word1)"
   ]
  },
  {
   "cell_type": "code",
   "execution_count": 15,
   "metadata": {},
   "outputs": [
    {
     "name": "stdout",
     "output_type": "stream",
     "text": [
      "Number of even numbers : 8\n",
      "Number of odd numbers : 6\n"
     ]
    }
   ],
   "source": [
    "#7.To read even numbers and odd numbers from a series\n",
    "numbers=(1,34,23,4,5,6,32,1,56,87,98,4,2,1)\n",
    "count_odd=0\n",
    "count_even=0\n",
    "for x in numbers:\n",
    "        if x%2==0:\n",
    "            count_even+=1\n",
    "        else:\n",
    "             count_odd+=1\n",
    "print(\"Number of even numbers :\",count_even)\n",
    "print(\"Number of odd numbers :\",count_odd)"
   ]
  },
  {
   "cell_type": "code",
   "execution_count": 16,
   "metadata": {},
   "outputs": [
    {
     "name": "stdout",
     "output_type": "stream",
     "text": [
      "0 1 2 4 5 "
     ]
    }
   ],
   "source": [
    "#8.Program to print all numbers from 0 to 6 except 3 and 6\n",
    "for x in range(6):\n",
    "    if (x == 3 or x==6):\n",
    "        continue\n",
    "    print(x,end=' ')"
   ]
  }
 ],
 "metadata": {
  "kernelspec": {
   "display_name": "Python 3",
   "language": "python",
   "name": "python3"
  },
  "language_info": {
   "codemirror_mode": {
    "name": "ipython",
    "version": 3
   },
   "file_extension": ".py",
   "mimetype": "text/x-python",
   "name": "python",
   "nbconvert_exporter": "python",
   "pygments_lexer": "ipython3",
   "version": "3.7.6"
  }
 },
 "nbformat": 4,
 "nbformat_minor": 4
}
