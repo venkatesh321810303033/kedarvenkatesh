{
 "cells": [
  {
   "cell_type": "code",
   "execution_count": 1,
   "metadata": {},
   "outputs": [
    {
     "name": "stdout",
     "output_type": "stream",
     "text": [
      "7\n",
      "8\n",
      "7\n"
     ]
    }
   ],
   "source": [
    "#1.write a function in python to check max amomg three numbers\n",
    "def max(a,b,c):\n",
    "    if(a>=b) and (a>=c):\n",
    "        maxi=a\n",
    "    elif(b>=a) and (b>=c):\n",
    "        maxi=b\n",
    "    else:\n",
    "        maxi=c\n",
    "    print(maxi)\n",
    "max(3,5,7)\n",
    "max(8,4,2)\n",
    "max(5,3,7)"
   ]
  },
  {
   "cell_type": "code",
   "execution_count": 4,
   "metadata": {},
   "outputs": [
    {
     "name": "stdout",
     "output_type": "stream",
     "text": [
      "Enter string:venky\n",
      "The original string: venky\n",
      "The reverse string: yknev \n"
     ]
    }
   ],
   "source": [
    "#2.python program to reverse a string\n",
    "def reverse(s):\n",
    "    str=\" \"\n",
    "    for i in s:\n",
    "        str=i+str\n",
    "    return str\n",
    "s=str(input('Enter string:'))\n",
    "print(\"The original string:\",end=\" \")\n",
    "print(s)\n",
    "print(\"The reverse string:\",end=\" \")\n",
    "print(reverse(s))"
   ]
  },
  {
   "cell_type": "code",
   "execution_count": 8,
   "metadata": {},
   "outputs": [
    {
     "name": "stdout",
     "output_type": "stream",
     "text": [
      "Enter a number:3\n",
      "3 is a prime number\n"
     ]
    }
   ],
   "source": [
    "#3.python program to check whether a number is prime or not\n",
    "num=int(input('Enter a number:'))\n",
    "if num>1:\n",
    "    for i in range(2,num):\n",
    "        if (num%i)==0:\n",
    "            print(num,\"is not a prime number\")\n",
    "            break\n",
    "        else:\n",
    "            print(num,\"is a prime number\")\n",
    "else:\n",
    "    print(num,\"is not a prime number\")"
   ]
  },
  {
   "cell_type": "code",
   "execution_count": 23,
   "metadata": {},
   "outputs": [
    {
     "name": "stdout",
     "output_type": "stream",
     "text": [
      "Enter number:12321\n",
      "The number is a palindrome!\n",
      "The end\n"
     ]
    }
   ],
   "source": [
    "#4.python program to check whether a number is palindrome or not\n",
    "n=int(input(\"Enter number:\"))\n",
    "temp=n\n",
    "rev=0\n",
    "try:\n",
    "    while(n>0):\n",
    "        dig=n%10\n",
    "        rev=rev*10+dig\n",
    "        n=n//10\n",
    "    if(temp==rev):\n",
    "        print(\"The number is a palindrome!\")\n",
    "    else:\n",
    "        print(\"The number isn't a palindrom\")\n",
    "except ValueError:\n",
    "        print(\"This is not a valid number\")\n",
    "finally:\n",
    "    print(\"The end\")"
   ]
  },
  {
   "cell_type": "code",
   "execution_count": 17,
   "metadata": {},
   "outputs": [
    {
     "name": "stdout",
     "output_type": "stream",
     "text": [
      "Enter the n value:5\n",
      "55.0\n"
     ]
    }
   ],
   "source": [
    "#5.python program to find sum of squares of first n natural numbers\n",
    "def squaresum(n):\n",
    "    return(n*(n+1)/2)*(2*n+1)/3\n",
    "n=int(input('Enter the n value:'))\n",
    "print(squaresum(n));"
   ]
  }
 ],
 "metadata": {
  "kernelspec": {
   "display_name": "Python 3",
   "language": "python",
   "name": "python3"
  },
  "language_info": {
   "codemirror_mode": {
    "name": "ipython",
    "version": 3
   },
   "file_extension": ".py",
   "mimetype": "text/x-python",
   "name": "python",
   "nbconvert_exporter": "python",
   "pygments_lexer": "ipython3",
   "version": "3.7.6"
  }
 },
 "nbformat": 4,
 "nbformat_minor": 4
}
