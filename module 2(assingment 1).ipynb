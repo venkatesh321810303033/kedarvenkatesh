{
 "cells": [
  {
   "cell_type": "code",
   "execution_count": 2,
   "metadata": {},
   "outputs": [
    {
     "name": "stdin",
     "output_type": "stream",
     "text": [
      "Enter a value: 6\n",
      "Enter b value: 3\n"
     ]
    },
    {
     "name": "stdout",
     "output_type": "stream",
     "text": [
      "6 is not equal to 3\n"
     ]
    }
   ],
   "source": [
    "#1.To check two inputs are equal or not\n",
    "a=int(input('Enter a value:'))\n",
    "b=int(input('Enter b value:'))\n",
    "if(a==b):\n",
    "    print(a,'is equal to',b)\n",
    "else:\n",
    "    print(a,'is not equal to',b)"
   ]
  },
  {
   "cell_type": "code",
   "execution_count": 6,
   "metadata": {},
   "outputs": [
    {
     "name": "stdout",
     "output_type": "stream",
     "text": [
      "Enter a value2\n",
      "Enter b value5\n",
      "Enter c value2\n",
      "a,c are equal\n"
     ]
    }
   ],
   "source": [
    "#2.To check 3 inputs are equal\n",
    "a=int(input('Enter a value'))\n",
    "b=int(input('Enter b value'))\n",
    "c=int(input('Enter c value'))\n",
    "if(a==b):\n",
    "    if(a==c):\n",
    "        print('a,b,c are equal')\n",
    "    else:\n",
    "        print('a,b are equal')\n",
    "else:\n",
    "    if(a==c):\n",
    "        print('a,c are equal')\n",
    "    elif(b==c):\n",
    "        print('b,c are equal')\n",
    "    else:\n",
    "        print('a,b,c are not equal')"
   ]
  },
  {
   "cell_type": "code",
   "execution_count": 10,
   "metadata": {},
   "outputs": [
    {
     "name": "stdin",
     "output_type": "stream",
     "text": [
      "enter a value 1\n",
      "enter b value 2\n"
     ]
    },
    {
     "name": "stdout",
     "output_type": "stream",
     "text": [
      "sum is less than 5\n"
     ]
    }
   ],
   "source": [
    "#3.to check sum of two numbers is greater than 5,less than 5,equal to 5\n",
    "a=int(input('enter a value'))\n",
    "b=int(input('enter b value'))\n",
    "sum=a+b\n",
    "if(sum>5):\n",
    "    print('sum is greater than 5')\n",
    "elif(sum<5):\n",
    "    print('sum is less than 5')\n",
    "else:\n",
    "    print('sum is equal to 5')"
   ]
  },
  {
   "cell_type": "code",
   "execution_count": 12,
   "metadata": {},
   "outputs": [
    {
     "name": "stdin",
     "output_type": "stream",
     "text": [
      "enter the marks 23\n"
     ]
    },
    {
     "name": "stdout",
     "output_type": "stream",
     "text": [
      "23 not greater than passing marks\n"
     ]
    }
   ],
   "source": [
    "#4.To check obtain marks are greater than passing marks or not\n",
    "passmark=35\n",
    "a=int(input('enter the marks'))\n",
    "if(a>35):\n",
    "    print(a,'greater than passing marks')\n",
    "else:\n",
    "    print(a,'not greater than passing marks')"
   ]
  },
  {
   "cell_type": "code",
   "execution_count": 21,
   "metadata": {},
   "outputs": [
    {
     "name": "stdout",
     "output_type": "stream",
     "text": [
      "7\n",
      "9\n",
      "8\n"
     ]
    }
   ],
   "source": [
    "#5.write a function in python to check max amomg three numbers\n",
    "def max(a,b,c):\n",
    "    if(a>=b) and (a>=c):\n",
    "        maxi=a\n",
    "    elif(b>=a) and (b>=c):\n",
    "        maxi=b\n",
    "    else:\n",
    "        maxi=c\n",
    "    print(maxi)\n",
    "max(2,5,7)\n",
    "max(9,6,2)\n",
    "max(6,2,8)"
   ]
  }
 ],
 "metadata": {
  "kernelspec": {
   "display_name": "Python 3",
   "language": "python",
   "name": "python3"
  },
  "language_info": {
   "codemirror_mode": {
    "name": "ipython",
    "version": 3
   },
   "file_extension": ".py",
   "mimetype": "text/x-python",
   "name": "python",
   "nbconvert_exporter": "python",
   "pygments_lexer": "ipython3",
   "version": "3.7.6"
  }
 },
 "nbformat": 4,
 "nbformat_minor": 4
}
