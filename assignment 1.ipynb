{
 "cells": [
  {
   "cell_type": "code",
   "execution_count": 8,
   "metadata": {},
   "outputs": [
    {
     "name": "stdout",
     "output_type": "stream",
     "text": [
      "Enter your first number: 14\n",
      "Enter your second number: 7\n",
      "Addition= 21\n",
      "subtraction= 7\n",
      "multiplication= 98\n",
      "division= 2.0\n",
      "modulus= 0\n",
      "exponent= 105413504\n",
      "floor division= 2\n"
     ]
    }
   ],
   "source": [
    "# SIMPLE CALCULATOR\n",
    "no_1 = int(input('Enter your first number: '))\n",
    "no_2 = int(input('Enter your second number: '))\n",
    "print('Addition=',no_1+no_2)\n",
    "print('subtraction=',no_1-no_2)\n",
    "print('multiplication=',no_1*no_2)\n",
    "print('division=',no_1/no_2)\n",
    "print('modulus=',no_1%no_2)\n",
    "print('exponent=',no_1**no_2)\n",
    "print('floor division=',no_1//no_2)"
   ]
  },
  {
   "cell_type": "code",
   "execution_count": 10,
   "metadata": {},
   "outputs": [
    {
     "name": "stdout",
     "output_type": "stream",
     "text": [
      "Enter the principle amount:1200\n",
      "Enter the time in years:4\n",
      "Enter the rate:6\n",
      "The simple interest is: 288.0\n"
     ]
    }
   ],
   "source": [
    "# SIMPLE INTEREST\n",
    "principle=float(input(\"Enter the principle amount:\"))\n",
    "time=int(input(\"Enter the time in years:\"))\n",
    "rate=float(input(\"Enter the rate:\"))\n",
    "simple_interest=(principle*time*rate)/100\n",
    "print(\"The simple interest is:\",simple_interest)"
   ]
  },
  {
   "cell_type": "code",
   "execution_count": 13,
   "metadata": {},
   "outputs": [
    {
     "name": "stdout",
     "output_type": "stream",
     "text": [
      "enter the radius of the circle4\n",
      "area of circle is: 50.26548245743669\n"
     ]
    }
   ],
   "source": [
    "# AREA OF CIRCLE\n",
    "import math\n",
    "radius=float(input('enter the radius of the circle'))\n",
    "area=math.pi*radius**2\n",
    "print('area of circle is:',area)"
   ]
  },
  {
   "cell_type": "code",
   "execution_count": 1,
   "metadata": {},
   "outputs": [
    {
     "name": "stdout",
     "output_type": "stream",
     "text": [
      "enter the height of the triangle5\n",
      "enter the breadth of the triangle5\n",
      "area of triangle: 12.5\n"
     ]
    }
   ],
   "source": [
    "#AREA OF TRIANGLE\n",
    "height=float(input('enter the height of the triangle'))\n",
    "breadth=float(input('enter the breadth of the triangle'))\n",
    "area=0.5*height*breadth\n",
    "print('area of triangle:',area)"
   ]
  },
  {
   "cell_type": "code",
   "execution_count": 16,
   "metadata": {},
   "outputs": [
    {
     "name": "stdout",
     "output_type": "stream",
     "text": [
      "Enter first side: 40\n",
      "Enter second side: 30\n",
      "Enter third side: 20\n",
      "The area of the triangle : 42187.5\n"
     ]
    }
   ],
   "source": [
    "#AREA OF TRIANGLE(ANOTHER CASE)\n",
    "a = float(input('Enter first side: '))\n",
    "b = float(input('Enter second side: '))\n",
    "c = float(input('Enter third side: '))\n",
    "s = (a + b + c) / 2\n",
    "area = (s*(s-a)*(s-b)*(s-c)) * 0.5\n",
    "print('The area of the triangle :',area)"
   ]
  },
  {
   "cell_type": "code",
   "execution_count": 1,
   "metadata": {},
   "outputs": [
    {
     "name": "stdout",
     "output_type": "stream",
     "text": [
      "enter the temperature in degree celsius:23\n",
      "temperature in fahrenheit: 73.4\n"
     ]
    }
   ],
   "source": [
    "#CELSIUS TO FAHRENHEIT(CONVERSION)\n",
    "celsius=int(input('enter the temperature in degree celsius:'))\n",
    "fahrenheit=(celsius*(9/5)+32)\n",
    "print('temperature in fahrenheit:',fahrenheit)"
   ]
  },
  {
   "cell_type": "code",
   "execution_count": 25,
   "metadata": {},
   "outputs": [
    {
     "name": "stdout",
     "output_type": "stream",
     "text": [
      "enter the side length of square:4\n",
      "perimeter of square : 16.0\n"
     ]
    }
   ],
   "source": [
    "#PERIMETER OF SQUARE\n",
    "side=float(input('enter the side length of square:'))\n",
    "perimeter=4*side\n",
    "print('perimeter of square :',perimeter)"
   ]
  },
  {
   "cell_type": "code",
   "execution_count": 26,
   "metadata": {},
   "outputs": [
    {
     "name": "stdout",
     "output_type": "stream",
     "text": [
      "enter the radius of circle:8\n",
      "circumference of circle: 50.26548245743669\n"
     ]
    }
   ],
   "source": [
    "#CIRCUMFERENCE OF CIRCLE\n",
    "import math\n",
    "radius=float(input('enter the radius of circle:'))\n",
    "circumference=2*math.pi*radius\n",
    "print('circumference of circle:',circumference)"
   ]
  },
  {
   "cell_type": "code",
   "execution_count": 27,
   "metadata": {},
   "outputs": [
    {
     "name": "stdout",
     "output_type": "stream",
     "text": [
      "Enter value of x: 10\n",
      "Enter value of y: 20\n",
      "value of x: 20\n",
      "value of y: 10\n"
     ]
    }
   ],
   "source": [
    "#SWAPPING OF NUMBERS\n",
    "x = input('Enter value of x: ')\n",
    "y = input('Enter value of y: ')\n",
    "x,y=y,x\n",
    "print('value of x:',x)\n",
    "print('value of y:',y)"
   ]
  },
  {
   "cell_type": "code",
   "execution_count": 2,
   "metadata": {},
   "outputs": [
    {
     "name": "stdout",
     "output_type": "stream",
     "text": [
      "enter the width of the rectangle:20\n",
      "enter the width of the rectangle20\n",
      "area of rectangle is: 400.0\n"
     ]
    }
   ],
   "source": [
    "#AREA OF RECTANGLE\n",
    "width=float(input('enter the width of the rectangle:'))\n",
    "length=float(input('enter the width of the rectangle'))\n",
    "area=width*length\n",
    "print('area of rectangle is:',area)"
   ]
  },
  {
   "cell_type": "code",
   "execution_count": null,
   "metadata": {},
   "outputs": [],
   "source": []
  }
 ],
 "metadata": {
  "kernelspec": {
   "display_name": "Python 3",
   "language": "python",
   "name": "python3"
  },
  "language_info": {
   "codemirror_mode": {
    "name": "ipython",
    "version": 3
   },
   "file_extension": ".py",
   "mimetype": "text/x-python",
   "name": "python",
   "nbconvert_exporter": "python",
   "pygments_lexer": "ipython3",
   "version": "3.7.6"
  }
 },
 "nbformat": 4,
 "nbformat_minor": 4
}
